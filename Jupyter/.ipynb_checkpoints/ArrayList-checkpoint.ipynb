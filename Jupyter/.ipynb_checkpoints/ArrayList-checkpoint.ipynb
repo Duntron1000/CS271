{
 "cells": [
  {
   "cell_type": "code",
   "execution_count": 2,
   "id": "ae32025e",
   "metadata": {},
   "outputs": [],
   "source": [
    "import numpy as np\n",
    "import matplotlib.pyplot as plt"
   ]
  },
  {
   "cell_type": "code",
   "execution_count": 6,
   "id": "7b8bfa0a",
   "metadata": {},
   "outputs": [
    {
     "name": "stdout",
     "output_type": "stream",
     "text": [
      "[7, 1, 100]\n"
     ]
    }
   ],
   "source": [
    "# a python list is an arraylist\n",
    "arr = [2, 7, 1]\n",
    "arr.append(100)\n",
    "arr.pop(0)\n",
    "print(arr)\n",
    "\n",
    "# Def. \"Random Access\" : The ability to instantly jump anywhare in the list\n",
    "# Ex) Linked Lists *do not* have random access\n",
    "\n",
    "# Looking for a list that is both flexible and has random access"
   ]
  },
  {
   "cell_type": "code",
   "execution_count": 21,
   "id": "ca99f17b",
   "metadata": {},
   "outputs": [
    {
     "name": "stdout",
     "output_type": "stream",
     "text": [
      "361.0\n"
     ]
    }
   ],
   "source": [
    "class ArrayList:\n",
    "    def __init__(self):\n",
    "        # keep an array that is bigger than I need\n",
    "        self.capacity = 10\n",
    "        self.arr = np.zeros(self.capacity)\n",
    "        self.N = 0 #How many elements I'm accualy storing\n",
    "        \n",
    "    def double_capacity(self):\n",
    "        new_arr = np.zeros(self.capacity*2)\n",
    "        #Copy everything from the old arrray into this array \n",
    "        for i in range(self.capacity):\n",
    "            new_arr[i] = self.arr[i]\n",
    "        self.arr = new_arr\n",
    "        # Remember that we now have twice the capacity\n",
    "        self.capacity *= 2\n",
    "        \n",
    "    def append(self, x):\n",
    "        \"\"\"\n",
    "        Add the item x to the back of the array\n",
    "        \"\"\"\n",
    "        if self.N == self.capacity:\n",
    "            self.double_capacity()\n",
    "            \n",
    "        self.arr[self.N] = x\n",
    "        self.N += 1\n",
    "    \n",
    "    def pop(self):\n",
    "        \"\"\"\n",
    "        Takes off the last element in the array\n",
    "        \"\"\"\n",
    "        if self.N == 0:\n",
    "            raise Exception\n",
    "        idx = self.N - 1\n",
    "        self.N -= 1 #One fewer element\n",
    "        return self.arr[idx]\n",
    "    \n",
    "    def __len__(self):\n",
    "        return self.N\n",
    "    \n",
    "    def __getitem__(self, idx):\n",
    "        if idx >= self.N:\n",
    "            raise Exception(\"Out of Bounds\")\n",
    "        return self.arr[idx]\n",
    "    \n",
    "mylist = ArrayList()\n",
    "for i in range(20):\n",
    "    mylist.append(i**2)\n",
    "print(mylist[19])"
   ]
  }
 ],
 "metadata": {
  "kernelspec": {
   "display_name": "Python 3 (ipykernel)",
   "language": "python",
   "name": "python3"
  },
  "language_info": {
   "codemirror_mode": {
    "name": "ipython",
    "version": 3
   },
   "file_extension": ".py",
   "mimetype": "text/x-python",
   "name": "python",
   "nbconvert_exporter": "python",
   "pygments_lexer": "ipython3",
   "version": "3.11.4"
  }
 },
 "nbformat": 4,
 "nbformat_minor": 5
}
