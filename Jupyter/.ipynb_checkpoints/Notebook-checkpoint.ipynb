{
 "cells": [
  {
   "cell_type": "code",
   "execution_count": 129,
   "id": "eca7e7d1",
   "metadata": {},
   "outputs": [
    {
     "name": "stdout",
     "output_type": "stream",
     "text": [
      "The autoreload extension is already loaded. To reload it, use:\n",
      "  %reload_ext autoreload\n"
     ]
    }
   ],
   "source": [
    "%load_ext autoreload\n",
    "%autoreload 2\n",
    "from hash import *"
   ]
  },
  {
   "cell_type": "code",
   "execution_count": null,
   "id": "ea620803",
   "metadata": {},
   "outputs": [],
   "source": [
    "arr = linked_list()\n",
    "arr.add_first(1)\n",
    "arr.add_first(4)\n",
    "arr.add_first(8)\n",
    "arr.add_first(7)\n",
    "arr.add_first(6)\n",
    "arr.add_first(3)\n",
    "print(arr)\n",
    "arr.remove(6)\n",
    "arr.remove(3)\n",
    "\n",
    "query = 8\n",
    "print(query in arr)"
   ]
  },
  {
   "cell_type": "code",
   "execution_count": null,
   "id": "29668d00",
   "metadata": {
    "scrolled": false
   },
   "outputs": [],
   "source": [
    "table = hashSet(100)\n",
    "table.add(1)\n",
    "table.add(4)\n",
    "table.add(6)\n",
    "table.add(8)\n",
    "table.add(999)\n",
    "table.add(44)\n",
    "table.add(13)\n",
    "\n",
    "\n",
    "\n",
    "print(table.keys())\n",
    "\n",
    "\n"
   ]
  },
  {
   "cell_type": "code",
   "execution_count": null,
   "id": "eeb0edc9",
   "metadata": {},
   "outputs": [],
   "source": [
    "s = hashSet(n_buckets=10)\n",
    "for i in range(100):\n",
    "    s.add(i)\n",
    "print(s)\n",
    "if fjdslkajfkdajfkl:\n",
    "    "
   ]
  },
  {
   "cell_type": "code",
   "execution_count": null,
   "id": "6fcaeb71",
   "metadata": {},
   "outputs": [],
   "source": []
  }
 ],
 "metadata": {
  "kernelspec": {
   "display_name": "Python 3 (ipykernel)",
   "language": "python",
   "name": "python3"
  },
  "language_info": {
   "codemirror_mode": {
    "name": "ipython",
    "version": 3
   },
   "file_extension": ".py",
   "mimetype": "text/x-python",
   "name": "python",
   "nbconvert_exporter": "python",
   "pygments_lexer": "ipython3",
   "version": "3.11.4"
  }
 },
 "nbformat": 4,
 "nbformat_minor": 5
}
