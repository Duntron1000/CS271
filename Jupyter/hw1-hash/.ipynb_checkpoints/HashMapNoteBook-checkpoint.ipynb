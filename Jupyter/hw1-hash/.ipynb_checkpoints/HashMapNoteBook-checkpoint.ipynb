{
 "cells": [
  {
   "cell_type": "code",
   "execution_count": 59,
   "id": "87e9b7c3",
   "metadata": {},
   "outputs": [
    {
     "name": "stdout",
     "output_type": "stream",
     "text": [
      "The autoreload extension is already loaded. To reload it, use:\n",
      "  %reload_ext autoreload\n"
     ]
    }
   ],
   "source": [
    "from wizard import *\n",
    "%load_ext autoreload\n",
    "%autoreload 2\n",
    "from HashMap import *"
   ]
  },
  {
   "cell_type": "code",
   "execution_count": 17,
   "id": "cbd806b1",
   "metadata": {},
   "outputs": [
    {
     "name": "stdout",
     "output_type": "stream",
     "text": [
      "Ginny Weasley: 2/17/1991\n",
      "False\n",
      "['Severus Snape', 'Ginny Weasley', 'Draco Malfoy']\n",
      "False\n"
     ]
    }
   ],
   "source": [
    "m = {}\n",
    "m[\"Severus Snape\"] = Wizard(\"Severus Snape\", 5, 26, 1962) # Add a key/value pair (__setitem__)\n",
    "m[\"Ginny Weasley\"] = Wizard(\"Ginny Weasley\", 2, 17, 1991)\n",
    "m[\"Draco Malfoy\"]  = Wizard(\"Draco Malfoy\",  9, 22, 1989)\n",
    "print(m[\"Ginny Weasley\"]) # Look something up by a key (__getitem__)\n",
    "print(\"Chris Tralie\" in m) # Check whether a key is in the dictionary (__contains__)\n",
    "print(list(m.keys())) # Print out a list of all of the keys (keys())\n",
    "del m[\"Draco Malfoy\"] # Remove a key and its associated value (__delitem__)\n",
    "print(\"Dracoy Malfoy\" in m)\n"
   ]
  },
  {
   "cell_type": "code",
   "execution_count": 7,
   "id": "050d5fa1",
   "metadata": {},
   "outputs": [
    {
     "name": "stdout",
     "output_type": "stream",
     "text": [
      "liam ==> \n",
      "18\n"
     ]
    }
   ],
   "source": [
    "l = Linked_List()\n",
    "l.add_first(\"liam\", 16)\n",
    "print(l)\n",
    "l[\"liam\"] = 18\n",
    "print(l[\"liam\"])\n"
   ]
  },
  {
   "cell_type": "code",
   "execution_count": 54,
   "id": "2c75e1f9",
   "metadata": {},
   "outputs": [
    {
     "name": "stdout",
     "output_type": "stream",
     "text": [
      "[]\n",
      "[]\n",
      "sam: 18 ==> \n",
      "[]\n",
      "[]\n",
      "[]\n",
      "[]\n",
      "[]\n",
      "[]\n",
      "liam: 88888 ==> \n",
      "\n",
      "[]\n",
      "[]\n",
      "[]\n",
      "[]\n",
      "[]\n",
      "[]\n",
      "[]\n",
      "[]\n",
      "[]\n",
      "liam: 88888 ==> \n",
      "\n"
     ]
    }
   ],
   "source": [
    "m = HashMap(10)\n",
    "m[\"liam\"] = 9\n",
    "m[\"liam\"] = 88888\n",
    "m[\"sam\"] = 18\n",
    "print(m)\n",
    "del m[\"sam\"]\n",
    "print(m)"
   ]
  },
  {
   "cell_type": "code",
   "execution_count": 60,
   "id": "1e39d781",
   "metadata": {},
   "outputs": [
    {
     "name": "stdout",
     "output_type": "stream",
     "text": [
      "Ginny Weasley: 2/17/1991\n",
      "False\n",
      "['Severus Snape', 'Ginny Weasley', 'Draco Malfoy']\n",
      "False\n"
     ]
    }
   ],
   "source": [
    "m = HashMap(10)\n",
    "m[\"Severus Snape\"] = Wizard(\"Severus Snape\", 5, 26, 1962) # Add a key/value pair (__setitem__)\n",
    "m[\"Ginny Weasley\"] = Wizard(\"Ginny Weasley\", 2, 17, 1991)\n",
    "m[\"Draco Malfoy\"]  = Wizard(\"Draco Malfoy\",  9, 22, 1989)\n",
    "print(m[\"Ginny Weasley\"]) # Look something up by a key (__getitem__)\n",
    "print(\"Chris Tralie\" in m) # Check whether a key is in the dictionary (__contains__)\n",
    "print(list(m.keys())) # Print out a list of all of the keys (keys())\n",
    "del m[\"Draco Malfoy\"] # Remove a key and its associated value (__delitem__)\n",
    "print(\"Dracoy Malfoy\" in m)\n"
   ]
  }
 ],
 "metadata": {
  "kernelspec": {
   "display_name": "Python 3 (ipykernel)",
   "language": "python",
   "name": "python3"
  },
  "language_info": {
   "codemirror_mode": {
    "name": "ipython",
    "version": 3
   },
   "file_extension": ".py",
   "mimetype": "text/x-python",
   "name": "python",
   "nbconvert_exporter": "python",
   "pygments_lexer": "ipython3",
   "version": "3.11.4"
  }
 },
 "nbformat": 4,
 "nbformat_minor": 5
}
