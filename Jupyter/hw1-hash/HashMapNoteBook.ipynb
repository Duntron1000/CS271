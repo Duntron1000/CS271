{
 "cells": [
  {
   "cell_type": "code",
   "execution_count": 1,
   "id": "87e9b7c3",
   "metadata": {},
   "outputs": [],
   "source": [
    "from wizard import *\n",
    "%load_ext autoreload\n",
    "%autoreload 2\n",
    "from HashMap import *"
   ]
  },
  {
   "cell_type": "code",
   "execution_count": 17,
   "id": "cbd806b1",
   "metadata": {},
   "outputs": [
    {
     "name": "stdout",
     "output_type": "stream",
     "text": [
      "Ginny Weasley: 2/17/1991\n",
      "False\n",
      "['Severus Snape', 'Ginny Weasley', 'Draco Malfoy']\n",
      "False\n"
     ]
    }
   ],
   "source": [
    "m = {}\n",
    "m[\"Severus Snape\"] = Wizard(\"Severus Snape\", 5, 26, 1962) # Add a key/value pair (__setitem__)\n",
    "m[\"Ginny Weasley\"] = Wizard(\"Ginny Weasley\", 2, 17, 1991)\n",
    "m[\"Draco Malfoy\"]  = Wizard(\"Draco Malfoy\",  9, 22, 1989)\n",
    "print(m[\"Ginny Weasley\"]) # Look something up by a key (__getitem__)\n",
    "print(\"Chris Tralie\" in m) # Check whether a key is in the dictionary (__contains__)\n",
    "print(list(m.keys())) # Print out a list of all of the keys (keys())\n",
    "del m[\"Draco Malfoy\"] # Remove a key and its associated value (__delitem__)\n",
    "print(\"Dracoy Malfoy\" in m)\n"
   ]
  },
  {
   "cell_type": "code",
   "execution_count": 7,
   "id": "050d5fa1",
   "metadata": {},
   "outputs": [
    {
     "name": "stdout",
     "output_type": "stream",
     "text": [
      "liam ==> \n",
      "18\n"
     ]
    }
   ],
   "source": [
    "l = Linked_List()\n",
    "l.add_first(\"liam\", 16)\n",
    "print(l)\n",
    "l[\"liam\"] = 18\n",
    "print(l[\"liam\"])\n"
   ]
  },
  {
   "cell_type": "code",
   "execution_count": 54,
   "id": "2c75e1f9",
   "metadata": {},
   "outputs": [
    {
     "name": "stdout",
     "output_type": "stream",
     "text": [
      "[]\n",
      "[]\n",
      "sam: 18 ==> \n",
      "[]\n",
      "[]\n",
      "[]\n",
      "[]\n",
      "[]\n",
      "[]\n",
      "liam: 88888 ==> \n",
      "\n",
      "[]\n",
      "[]\n",
      "[]\n",
      "[]\n",
      "[]\n",
      "[]\n",
      "[]\n",
      "[]\n",
      "[]\n",
      "liam: 88888 ==> \n",
      "\n"
     ]
    }
   ],
   "source": [
    "m = HashMap(10)\n",
    "m[\"liam\"] = 9\n",
    "m[\"liam\"] = 88888\n",
    "m[\"sam\"] = 18\n",
    "print(m)\n",
    "del m[\"sam\"]\n",
    "print(m)"
   ]
  },
  {
   "cell_type": "code",
   "execution_count": 11,
   "id": "1e39d781",
   "metadata": {},
   "outputs": [
    {
     "name": "stdout",
     "output_type": "stream",
     "text": [
      "Ginny Weasley: 2/17/1991\n",
      "False\n",
      "['Ginny Weasley', 'Draco Malfoy', 'Severus Snape']\n",
      "False\n"
     ]
    }
   ],
   "source": [
    "m = HashMap(10, .75)\n",
    "m[\"Severus Snape\"] = Wizard(\"Severus Snape\", 5, 26, 1962) # Add a key/value pair (__setitem__)\n",
    "m[\"Ginny Weasley\"] = Wizard(\"Ginny Weasley\", 2, 17, 1991)\n",
    "m[\"Draco Malfoy\"]  = Wizard(\"Draco Malfoy\",  9, 22, 1989)\n",
    "print(m[\"Ginny Weasley\"]) # Look something up by a key (__getitem__)\n",
    "print(\"Chris Tralie\" in m) # Check whether a key is in the dictionary (__contains__)\n",
    "print(list(m.keys())) # Print out a list of all of the keys (keys())\n",
    "del m[\"Draco Malfoy\"] # Remove a key anxd its associated value (__delitem__)\n",
    "print(\"Dracoy Malfoy\" in m)\n"
   ]
  },
  {
   "cell_type": "code",
   "execution_count": 13,
   "id": "e17c672a",
   "metadata": {},
   "outputs": [
    {
     "name": "stdout",
     "output_type": "stream",
     "text": [
      "['Number 11', 'Number 91', 'Number 51', 'Number 7', 'Number 49', 'Number 1', 'Number 40', 'Number 96', 'Number 89', 'Number 61', 'Number 47', 'Number 92', 'Number 25', 'Number 32', 'Number 0', 'Number 30', 'Number 78', 'Number 4', 'Number 53', 'Number 45', 'Number 9', 'Number 70', 'Number 27', 'Number 17', 'Number 83', 'Number 52', 'Number 86', 'Number 69', 'Number 74', 'Number 10', 'Number 22', 'Number 46', 'Number 36', 'Number 31', 'Number 43', 'Number 58', 'Number 59', 'Number 24', 'Number 42', 'Number 64', 'Number 95', 'Number 34', 'Number 41', 'Number 85', 'Number 90', 'Number 98', 'Number 13', 'Number 63', 'Number 77', 'Number 19', 'Number 50', 'Number 94', 'Number 12', 'Number 65', 'Number 8', 'Number 14', 'Number 18', 'Number 16', 'Number 26', 'Number 68', 'Number 72', 'Number 97', 'Number 23', 'Number 80', 'Number 15', 'Number 29', 'Number 35', 'Number 81', 'Number 56', 'Number 79', 'Number 87', 'Number 71', 'Number 3', 'Number 67', 'Number 6', 'Number 66', 'Number 60', 'Number 5', 'Number 38', 'Number 28', 'Number 55', 'Number 99', 'Number 88', 'Number 54', 'Number 75', 'Number 39', 'Number 73', 'Number 93', 'Number 57', 'Number 48', 'Number 76', 'Number 21', 'Number 2', 'Number 84', 'Number 37', 'Number 82', 'Number 33', 'Number 44', 'Number 20', 'Number 62']\n",
      "11\n",
      "91\n",
      "51\n",
      "7\n",
      "49\n",
      "1\n",
      "40\n",
      "96\n",
      "89\n",
      "61\n",
      "47\n",
      "92\n",
      "25\n",
      "32\n",
      "0\n",
      "30\n",
      "78\n",
      "4\n",
      "53\n",
      "45\n",
      "9\n",
      "70\n",
      "27\n",
      "17\n",
      "83\n",
      "52\n",
      "86\n",
      "69\n",
      "74\n",
      "10\n",
      "22\n",
      "46\n",
      "36\n",
      "31\n",
      "43\n",
      "58\n",
      "59\n",
      "24\n",
      "42\n",
      "64\n",
      "95\n",
      "34\n",
      "41\n",
      "85\n",
      "90\n",
      "98\n",
      "13\n",
      "63\n",
      "77\n",
      "19\n",
      "50\n",
      "94\n",
      "12\n",
      "65\n",
      "8\n",
      "14\n",
      "18\n",
      "16\n",
      "26\n",
      "68\n",
      "72\n",
      "97\n",
      "23\n",
      "80\n",
      "15\n",
      "29\n",
      "35\n",
      "81\n",
      "56\n",
      "79\n",
      "87\n",
      "71\n",
      "3\n",
      "67\n",
      "6\n",
      "66\n",
      "60\n",
      "5\n",
      "38\n",
      "28\n",
      "55\n",
      "99\n",
      "88\n",
      "54\n",
      "75\n",
      "39\n",
      "73\n",
      "93\n",
      "57\n",
      "48\n",
      "76\n",
      "21\n",
      "2\n",
      "84\n",
      "37\n",
      "82\n",
      "33\n",
      "44\n",
      "20\n",
      "62\n"
     ]
    }
   ],
   "source": [
    "s = HashMap(10, 0.75)\n",
    "for i in range(100):\n",
    "    s[\"Number {}\".format(i)] = i\n",
    "    \n",
    "print(s.keys())\n",
    "keys=s.keys()\n",
    "for i in keys:\n",
    "    print(s[i])"
   ]
  }
 ],
 "metadata": {
  "kernelspec": {
   "display_name": "Python 3 (ipykernel)",
   "language": "python",
   "name": "python3"
  },
  "language_info": {
   "codemirror_mode": {
    "name": "ipython",
    "version": 3
   },
   "file_extension": ".py",
   "mimetype": "text/x-python",
   "name": "python",
   "nbconvert_exporter": "python",
   "pygments_lexer": "ipython3",
   "version": "3.11.4"
  }
 },
 "nbformat": 4,
 "nbformat_minor": 5
}
