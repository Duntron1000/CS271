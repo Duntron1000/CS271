{
 "cells": [
  {
   "cell_type": "markdown",
   "id": "b201026f",
   "metadata": {},
   "source": [
    "# An Interactive Autocomplete Interface\n",
    "## Chris Tralie"
   ]
  },
  {
   "cell_type": "code",
   "execution_count": 1,
   "id": "0c801c90",
   "metadata": {},
   "outputs": [
    {
     "ename": "NameError",
     "evalue": "name 'Autocomplete' is not defined",
     "output_type": "error",
     "traceback": [
      "\u001b[0;31m---------------------------------------------------------------------------\u001b[0m",
      "\u001b[0;31mNameError\u001b[0m                                 Traceback (most recent call last)",
      "Cell \u001b[0;32mIn[1], line 10\u001b[0m\n\u001b[1;32m      6\u001b[0m \u001b[38;5;28;01mfrom\u001b[39;00m \u001b[38;5;21;01mIPython\u001b[39;00m\u001b[38;5;21;01m.\u001b[39;00m\u001b[38;5;21;01mdisplay\u001b[39;00m \u001b[38;5;28;01mimport\u001b[39;00m display\n\u001b[1;32m      7\u001b[0m \u001b[38;5;28;01mfrom\u001b[39;00m \u001b[38;5;21;01mtrie\u001b[39;00m \u001b[38;5;28;01mimport\u001b[39;00m \u001b[38;5;241m*\u001b[39m\n\u001b[0;32m---> 10\u001b[0m autocomplete \u001b[38;5;241m=\u001b[39m Autocomplete(\u001b[38;5;124m\"\u001b[39m\u001b[38;5;124mwords.txt\u001b[39m\u001b[38;5;124m\"\u001b[39m)\n\u001b[1;32m     11\u001b[0m max_terms \u001b[38;5;241m=\u001b[39m \u001b[38;5;241m20\u001b[39m\n\u001b[1;32m     14\u001b[0m alist \u001b[38;5;241m=\u001b[39m widgets\u001b[38;5;241m.\u001b[39mSelect(\n\u001b[1;32m     15\u001b[0m     options\u001b[38;5;241m=\u001b[39m[],\n\u001b[1;32m     16\u001b[0m     rows\u001b[38;5;241m=\u001b[39mmax_terms,\n\u001b[1;32m     17\u001b[0m     description\u001b[38;5;241m=\u001b[39m\u001b[38;5;124m'\u001b[39m\u001b[38;5;124mAutocompletions:\u001b[39m\u001b[38;5;124m'\u001b[39m,\n\u001b[1;32m     18\u001b[0m     disabled\u001b[38;5;241m=\u001b[39m\u001b[38;5;28;01mFalse\u001b[39;00m\n\u001b[1;32m     19\u001b[0m )\n",
      "\u001b[0;31mNameError\u001b[0m: name 'Autocomplete' is not defined"
     ]
    }
   ],
   "source": [
    "%load_ext autoreload\n",
    "%autoreload 2\n",
    "\n",
    "import numpy as np\n",
    "import ipywidgets as widgets\n",
    "from IPython.display import display\n",
    "from trie import *\n",
    "\n",
    "\n",
    "autocomplete = Autocomplete(\"words.txt\")\n",
    "max_terms = 20\n",
    "\n",
    "    \n",
    "alist = widgets.Select(\n",
    "    options=[],\n",
    "    rows=max_terms,\n",
    "    description='Autocompletions:',\n",
    "    disabled=False\n",
    ")\n",
    "\n",
    "def reset_options(c):\n",
    "    alist.options = tuple([chr(ord(\"a\")+i) for i in range(20)])\n",
    "\n",
    "\n",
    "wtext = widgets.Textarea(\n",
    "    value='',\n",
    "    placeholder='Type something',\n",
    "    description='String:',\n",
    "    disabled=False\n",
    ")\n",
    "\n",
    "def typing(c):\n",
    "    s = wtext.value\n",
    "    if len(s) > 1:\n",
    "        terms = autocomplete.all_matches(s)\n",
    "        alist.options = tuple(terms[0:max_terms])\n",
    "    else:\n",
    "        alist.options = tuple([])\n",
    "\n",
    "wtext.observe(typing)\n",
    "\n",
    "\n",
    "\n",
    "display(wtext)\n",
    "display(alist)"
   ]
  },
  {
   "cell_type": "code",
   "execution_count": null,
   "id": "d0ec913d",
   "metadata": {},
   "outputs": [],
   "source": []
  }
 ],
 "metadata": {
  "kernelspec": {
   "display_name": "Python 3 (ipykernel)",
   "language": "python",
   "name": "python3"
  },
  "language_info": {
   "codemirror_mode": {
    "name": "ipython",
    "version": 3
   },
   "file_extension": ".py",
   "mimetype": "text/x-python",
   "name": "python",
   "nbconvert_exporter": "python",
   "pygments_lexer": "ipython3",
   "version": "3.11.4"
  }
 },
 "nbformat": 4,
 "nbformat_minor": 5
}
