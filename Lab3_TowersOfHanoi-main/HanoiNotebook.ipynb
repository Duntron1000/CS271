{
 "cells": [
  {
   "cell_type": "code",
   "execution_count": 7,
   "id": "46bdbaa5",
   "metadata": {},
   "outputs": [
    {
     "data": {
      "image/png": "[encoded data removed]",
      "text/plain": [
       "<Figure size 300x100 with 1 Axes>"
      ]
     },
     "metadata": {},
     "output_type": "display_data"
    }
   ],
   "source": [
    "import matplotlib.pyplot as plt\n",
    "from stack import Stack\n",
    "import matplotlib.patches as patches\n",
    "\n",
    "class Hanoi:\n",
    "    def __init__(self, N):\n",
    "        self._left = Stack()\n",
    "        self._middle = Stack()\n",
    "        self._right = Stack()\n",
    "        for i in range(N):\n",
    "            self._left.push(N-i)\n",
    "        self._frame_idx = 0\n",
    "        self._N = N\n",
    "            \n",
    "    def draw_frame(self):\n",
    "        \"\"\"\n",
    "        Draw the pegs where they currently are, and increment the frame number\n",
    "        \"\"\"\n",
    "        plt.clf()\n",
    "        ax = plt.gca()\n",
    "        for k, stack in enumerate([s.get_entire_stack() for s in \\\n",
    "                                    [self._left, self._middle, self._right]]):\n",
    "            x_center = 0.5 + self._N/2 + k*(0.5 + self._N)\n",
    "            w = 0.1\n",
    "            rect = patches.Rectangle((x_center-w, 0), w*2, self._N+1, edgecolor='k', facecolor='k')\n",
    "            ax.add_patch(rect) \n",
    "            for y, disc in enumerate(stack):\n",
    "                x = x_center - disc/2\n",
    "                rect = patches.Rectangle((x, y), disc, 1, edgecolor='k', facecolor='C1')\n",
    "                ax.add_patch(rect)  \n",
    "        plt.xlim([0, self._N*3+3])\n",
    "        plt.ylim([0, self._N+1])\n",
    "        plt.axis('off')\n",
    "        plt.title(\"Step {}\".format(self._frame_idx))\n",
    "        plt.savefig(\"{}.png\".format(self._frame_idx), bbox_inches='tight')\n",
    "        self._frame_idx += 1\n",
    "\n",
    "    def solve_rec(self, source, free, target, n):\n",
    "        \"\"\"\n",
    "        Parameters\n",
    "        ----------\n",
    "        source: stack\n",
    "            A stack of pegs and their sizes that are currently at\n",
    "            our source location\n",
    "        free: stack\n",
    "            A stack of pegs at a location that can be used as a staging area\n",
    "        target: stack\n",
    "            A stack of pegs at a location where we want to put the source pegs\n",
    "        n: int\n",
    "            The top n pegs should be moved from the source to the target\n",
    "\n",
    "        Move the top n pegs from the source to the target,\n",
    "        using the free area as a staging area if necessary.\n",
    "        Hint: \n",
    "        1) Recursively move the top n-1 discs out of the way\n",
    "        2) Move the nth disc from the source to the target, then draw with self.draw_frame()\n",
    "        3) Recursively move the top n-1 discs over the nth one\n",
    "        \"\"\"\n",
    "        if n == 1: # if there is only one piece left move it to the goal\n",
    "            target.push(source.pop())\n",
    "            self.draw_frame()\n",
    "            return\n",
    "        else: # otherwise move all the pieces ontop of the last disk to the free space move the piece then move everything otop of it\n",
    "            self.solve_rec(source, target, free, n-1)\n",
    "            target.push(source.pop())\n",
    "            self.draw_frame()\n",
    "            self.solve_rec(free, source, target, n-1)\n",
    "\n",
    "            \n",
    "    \n",
    "    def solve(self):\n",
    "        \"\"\"\n",
    "        Do an animation of the pegs\n",
    "        \"\"\"\n",
    "        fscale = 0.5\n",
    "        plt.figure(figsize=(fscale*(self._N*3+3), fscale*(self._N+1)))\n",
    "        self._frame_idx = 0\n",
    "        self.draw_frame()\n",
    "        self.solve_rec(self._left, self._middle, self._right,self._N)\n",
    "\n",
    "\n",
    "h = Hanoi(1)\n",
    "h.solve()\n"
   ]
  }
 ],
 "metadata": {
  "kernelspec": {
   "display_name": "Python 3 (ipykernel)",
   "language": "python",
   "name": "python3"
  },
  "language_info": {
   "codemirror_mode": {
    "name": "ipython",
    "version": 3
   },
   "file_extension": ".py",
   "mimetype": "text/x-python",
   "name": "python",
   "nbconvert_exporter": "python",
   "pygments_lexer": "ipython3",
   "version": "3.11.4"
  }
 },
 "nbformat": 4,
 "nbformat_minor": 5
}
