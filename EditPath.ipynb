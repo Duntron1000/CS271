{
 "cells": [
  {
   "cell_type": "code",
   "execution_count": 16,
   "id": "900645ed",
   "metadata": {},
   "outputs": [],
   "source": [
    "def editdyn(s1, s2):\n",
    "    \"\"\"\n",
    "    Parameters\n",
    "    ----------\n",
    "    s1: string of length M\n",
    "        A string with M characters\n",
    "    s2: string of length N\n",
    "        A string with N characters\n",
    "        \n",
    "    Returns\n",
    "    -------\n",
    "    int: The optimal number of add/delete/match/swap\n",
    "        operations needed to turn s1 into s2 or vice versa\n",
    "    \"\"\"\n",
    "\n",
    "    ## Setup memory (M+1)x(N+1)\n",
    "    ## mem[i][j] : Edit distance between\n",
    "    ## first i characters of s1 and\n",
    "    ## first j characters of s2\n",
    "    #school\n",
    "    #fools\n",
    "    M = len(s1)\n",
    "    N = len(s2)\n",
    "    mem = []\n",
    "    for i in range(M+1):\n",
    "        mem.append([]) # Add a row\n",
    "        for j in range(N+1):\n",
    "            # Add a new column\n",
    "            mem[i].append(0)\n",
    "    \n",
    "    ## Fill in base cases\n",
    "    for j in range(N+1): # First row\n",
    "        mem[0][j] = j\n",
    "    for i in range(M+1):\n",
    "        mem[i][0] = i\n",
    "    for i in range(1, M+1):\n",
    "        for j in range(1, N+1):\n",
    "            # Delete last character from s1 and match the rest recursively\n",
    "            case1 = 1 + mem[i-1][j]\n",
    "            # Delete last character from s2 and match the rest recursively\n",
    "            case2 = 1 + mem[i][j-1] #\n",
    "            # Swap or match the last characters from s1 and s2 and match the rest recursively\n",
    "            case3 = mem[i-1][j-1]\n",
    "            if s1[i-1] != s2[j-1]: # If last characters are different\n",
    "                case3 += 1 # Pay for a swap\n",
    "            mem[i][j] = min(case1, case2, case3)\n",
    "    x = M \n",
    "    y = N\n",
    "    seq = []\n",
    "    while x > 0 or y > 0:\n",
    "        seq.append((x,y))\n",
    "        \n",
    "        case1 = 1+mem[x-1][y]\n",
    "        case2 = 1+mem[x][y-1]\n",
    "        case3 = mem[x-1][y-1]\n",
    "        if s1[x-1] != s2[y-1]:\n",
    "            case3 += 1\n",
    "        if case1 == mem[x][y]:\n",
    "            x -= 1\n",
    "        elif case2 == mem[x][y]:\n",
    "            y -= 1\n",
    "        elif case3 == mem[x][y]:\n",
    "            x -= 1\n",
    "            y -= 1\n",
    "    seq.reverse()\n",
    "            \n",
    "    return mem[-1][-1], seq # Lower right\n",
    "\n",
    "    \n",
    "        \n",
    "        "
   ]
  },
  {
   "cell_type": "code",
   "execution_count": 17,
   "id": "724aefed",
   "metadata": {},
   "outputs": [
    {
     "data": {
      "text/plain": [
       "(4, [(1, 1), (2, 1), (3, 1), (4, 2), (5, 3), (6, 4), (6, 5)])"
      ]
     },
     "execution_count": 17,
     "metadata": {},
     "output_type": "execute_result"
    }
   ],
   "source": [
    "editdyn(\"school\", \"fools\")"
   ]
  }
 ],
 "metadata": {
  "kernelspec": {
   "display_name": "Python 3 (ipykernel)",
   "language": "python",
   "name": "python3"
  },
  "language_info": {
   "codemirror_mode": {
    "name": "ipython",
    "version": 3
   },
   "file_extension": ".py",
   "mimetype": "text/x-python",
   "name": "python",
   "nbconvert_exporter": "python",
   "pygments_lexer": "ipython3",
   "version": "3.11.4"
  }
 },
 "nbformat": 4,
 "nbformat_minor": 5
}
